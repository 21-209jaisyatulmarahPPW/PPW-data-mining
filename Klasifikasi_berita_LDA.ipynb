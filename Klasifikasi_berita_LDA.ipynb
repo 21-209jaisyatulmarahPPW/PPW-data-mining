{
  "nbformat": 4,
  "nbformat_minor": 0,
  "metadata": {
    "colab": {
      "provenance": []
    },
    "kernelspec": {
      "name": "python3",
      "display_name": "Python 3"
    },
    "language_info": {
      "name": "python"
    }
  },
  "cells": [
    {
      "cell_type": "code",
      "source": [
        "# --- 1. Import Library ---\n",
        "import pandas as pd\n",
        "import numpy as np\n",
        "import re\n",
        "import nltk\n",
        "from sklearn.model_selection import train_test_split\n",
        "from sklearn.feature_extraction.text import CountVectorizer\n",
        "from sklearn.decomposition import LatentDirichletAllocation\n",
        "from sklearn.naive_bayes import MultinomialNB\n",
        "from sklearn.metrics import classification_report, accuracy_score\n",
        "nltk.download('stopwords')\n",
        "from nltk.corpus import stopwords\n",
        "\n",
        "# --- 2. Load Dataset ---\n",
        "df = pd.read_csv(\"/content/drive/MyDrive/PPW/artikel_medium_multitopik_rss.csv\")  # sesuaikan path di Colab\n",
        "print(\"Jumlah data:\", len(df))\n",
        "print(df.head())\n",
        "\n",
        "# --- 3. Preprocessing ---\n",
        "stop_words = set(stopwords.words('english'))\n",
        "\n",
        "def clean_text(text):\n",
        "    text = str(text).lower()  # lowercase\n",
        "    text = re.sub(r'[^a-z\\s]', '', text)  # hapus karakter non-huruf\n",
        "    tokens = [word for word in text.split() if word not in stop_words and len(word) > 2]\n",
        "    return \" \".join(tokens)\n",
        "\n",
        "df[\"clean_text\"] = df[\"isi\"].apply(clean_text)\n",
        "\n",
        "# --- 4. Split Data ---\n",
        "X_train, X_test, y_train, y_test = train_test_split(df[\"clean_text\"], df[\"kategori\"],\n",
        "                                                    test_size=0.2, random_state=42, stratify=df[\"kategori\"])\n",
        "\n",
        "# --- 5. Ubah ke representasi count untuk LDA ---\n",
        "vectorizer = CountVectorizer(max_features=3000)\n",
        "X_train_counts = vectorizer.fit_transform(X_train)\n",
        "X_test_counts = vectorizer.transform(X_test)\n",
        "\n",
        "# --- 6. Latent Dirichlet Allocation (LDA) untuk ekstraksi fitur ---\n",
        "n_topics = 10  # jumlah topik tersembunyi\n",
        "lda = LatentDirichletAllocation(n_components=n_topics, random_state=42)\n",
        "X_train_lda = lda.fit_transform(X_train_counts)\n",
        "X_test_lda = lda.transform(X_test_counts)\n",
        "\n",
        "print(\"Dimensi hasil LDA:\", X_train_lda.shape)\n",
        "\n",
        "# --- 7. Klasifikasi (Naive Bayes) ---\n",
        "model = MultinomialNB()\n",
        "model.fit(X_train_lda, y_train)\n",
        "y_pred = model.predict(X_test_lda)\n",
        "\n",
        "# --- 8. Evaluasi ---\n",
        "print(\"\\n=== HASIL EVALUASI ===\")\n",
        "print(\"Akurasi:\", accuracy_score(y_test, y_pred))\n",
        "print(\"\\nClassification Report:\\n\", classification_report(y_test, y_pred))\n",
        "\n",
        "# --- 9. Contoh Prediksi Baru ---\n",
        "contoh = [\"AI helps doctors detect diseases early\"]\n",
        "contoh_counts = vectorizer.transform(contoh)\n",
        "contoh_lda = lda.transform(contoh_counts)\n",
        "prediksi = model.predict(contoh_lda)\n",
        "print(\"\\nContoh Prediksi:\", prediksi[0])\n"
      ],
      "metadata": {
        "colab": {
          "base_uri": "https://localhost:8080/"
        },
        "id": "y5RU6J14tNl6",
        "outputId": "57d0e248-e129-4f03-b098-48b685576567"
      },
      "execution_count": 8,
      "outputs": [
        {
          "output_type": "stream",
          "name": "stderr",
          "text": [
            "[nltk_data] Downloading package stopwords to /root/nltk_data...\n",
            "[nltk_data]   Package stopwords is already up-to-date!\n"
          ]
        },
        {
          "output_type": "stream",
          "name": "stdout",
          "text": [
            "Jumlah data: 38\n",
            "                                               judul  \\\n",
            "0  The Grand Deception: How Religion, Banking and...   \n",
            "1                    Spanish Classes For 6 Year Olds   \n",
            "2  Teen Entrepreneur: How to Turn Curiosity into ...   \n",
            "3                      Sekolah Mengemudi Berkualitas   \n",
            "4                                                LPU   \n",
            "\n",
            "                                                 isi  \\\n",
            "0  <div class=\"medium-feed-item\"><p class=\"medium...   \n",
            "1  <div class=\"medium-feed-item\"><p class=\"medium...   \n",
            "2  <div class=\"medium-feed-item\"><p class=\"medium...   \n",
            "3  <div class=\"medium-feed-item\"><p class=\"medium...   \n",
            "4  <div class=\"medium-feed-item\"><p class=\"medium...   \n",
            "\n",
            "                                                 url   kategori  \n",
            "0  https://medium.com/@mickeyknoxdidit76/the-gran...  education  \n",
            "1  https://medium.com/@lifeskilllear/spanish-clas...  education  \n",
            "2  https://medium.com/@fauzanahamd123/teen-entrep...  education  \n",
            "3  https://medium.com/@kursusstirmobilprofesional...  education  \n",
            "4  https://medium.com/@parminder.rai1313/lpu-f7c3...  education  \n",
            "Dimensi hasil LDA: (30, 10)\n",
            "\n",
            "=== HASIL EVALUASI ===\n",
            "Akurasi: 0.125\n",
            "\n",
            "Classification Report:\n",
            "                   precision    recall  f1-score   support\n",
            "\n",
            "       education       0.00      0.00      0.00         2\n",
            "          health       0.00      0.00      0.00         2\n",
            "machine learning       0.00      0.00      0.00         2\n",
            "        politics       1.00      0.50      0.67         2\n",
            "\n",
            "        accuracy                           0.12         8\n",
            "       macro avg       0.25      0.12      0.17         8\n",
            "    weighted avg       0.25      0.12      0.17         8\n",
            "\n",
            "\n",
            "Contoh Prediksi: machine learning\n"
          ]
        },
        {
          "output_type": "stream",
          "name": "stderr",
          "text": [
            "/usr/local/lib/python3.12/dist-packages/sklearn/metrics/_classification.py:1565: UndefinedMetricWarning: Precision is ill-defined and being set to 0.0 in labels with no predicted samples. Use `zero_division` parameter to control this behavior.\n",
            "  _warn_prf(average, modifier, f\"{metric.capitalize()} is\", len(result))\n",
            "/usr/local/lib/python3.12/dist-packages/sklearn/metrics/_classification.py:1565: UndefinedMetricWarning: Precision is ill-defined and being set to 0.0 in labels with no predicted samples. Use `zero_division` parameter to control this behavior.\n",
            "  _warn_prf(average, modifier, f\"{metric.capitalize()} is\", len(result))\n",
            "/usr/local/lib/python3.12/dist-packages/sklearn/metrics/_classification.py:1565: UndefinedMetricWarning: Precision is ill-defined and being set to 0.0 in labels with no predicted samples. Use `zero_division` parameter to control this behavior.\n",
            "  _warn_prf(average, modifier, f\"{metric.capitalize()} is\", len(result))\n"
          ]
        }
      ]
    },
    {
      "cell_type": "code",
      "source": [
        "# --- Import Library ---\n",
        "import pandas as pd\n",
        "import numpy as np\n",
        "import re\n",
        "import nltk\n",
        "from nltk.corpus import stopwords\n",
        "from sklearn.feature_extraction.text import CountVectorizer\n",
        "from sklearn.decomposition import LatentDirichletAllocation\n",
        "from sklearn.model_selection import train_test_split\n",
        "from sklearn.naive_bayes import MultinomialNB\n",
        "from sklearn.metrics import accuracy_score, classification_report, confusion_matrix\n",
        "import matplotlib.pyplot as plt\n",
        "import seaborn as sns"
      ],
      "metadata": {
        "id": "elQ1BwXzt0EJ"
      },
      "execution_count": 9,
      "outputs": []
    },
    {
      "cell_type": "code",
      "source": [
        "# --- Download NLTK Stopwords ---\n",
        "nltk.download('stopwords')\n",
        "stop_words = stopwords.words('english')\n"
      ],
      "metadata": {
        "colab": {
          "base_uri": "https://localhost:8080/"
        },
        "id": "VL-PYf1_t2Py",
        "outputId": "134e5541-3e04-4eb8-f51c-a32f690e2eb8"
      },
      "execution_count": 10,
      "outputs": [
        {
          "output_type": "stream",
          "name": "stderr",
          "text": [
            "[nltk_data] Downloading package stopwords to /root/nltk_data...\n",
            "[nltk_data]   Package stopwords is already up-to-date!\n"
          ]
        }
      ]
    },
    {
      "cell_type": "code",
      "source": [
        "# --- 1. Baca Dataset ---\n",
        "df = pd.read_csv(\"/content/drive/MyDrive/PPW/artikel_medium_multitopik_rss.csv\")\n",
        "print(\"Jumlah data:\", len(df))\n",
        "print(df.head())\n"
      ],
      "metadata": {
        "colab": {
          "base_uri": "https://localhost:8080/"
        },
        "id": "-C34tigOt6gq",
        "outputId": "f95b4486-2b3e-4527-9717-872a3c6c250a"
      },
      "execution_count": 12,
      "outputs": [
        {
          "output_type": "stream",
          "name": "stdout",
          "text": [
            "Jumlah data: 38\n",
            "                                               judul  \\\n",
            "0  The Grand Deception: How Religion, Banking and...   \n",
            "1                    Spanish Classes For 6 Year Olds   \n",
            "2  Teen Entrepreneur: How to Turn Curiosity into ...   \n",
            "3                      Sekolah Mengemudi Berkualitas   \n",
            "4                                                LPU   \n",
            "\n",
            "                                                 isi  \\\n",
            "0  <div class=\"medium-feed-item\"><p class=\"medium...   \n",
            "1  <div class=\"medium-feed-item\"><p class=\"medium...   \n",
            "2  <div class=\"medium-feed-item\"><p class=\"medium...   \n",
            "3  <div class=\"medium-feed-item\"><p class=\"medium...   \n",
            "4  <div class=\"medium-feed-item\"><p class=\"medium...   \n",
            "\n",
            "                                                 url   kategori  \n",
            "0  https://medium.com/@mickeyknoxdidit76/the-gran...  education  \n",
            "1  https://medium.com/@lifeskilllear/spanish-clas...  education  \n",
            "2  https://medium.com/@fauzanahamd123/teen-entrep...  education  \n",
            "3  https://medium.com/@kursusstirmobilprofesional...  education  \n",
            "4  https://medium.com/@parminder.rai1313/lpu-f7c3...  education  \n"
          ]
        }
      ]
    },
    {
      "cell_type": "code",
      "source": [
        "# --- 2. Preprocessing Teks ---\n",
        "def bersihkan_teks(teks):\n",
        "    teks = str(teks).lower()                        # ubah ke huruf kecil\n",
        "    teks = re.sub(r'http\\S+|www.\\S+', '', teks)     # hapus URL\n",
        "    teks = re.sub(r'[^a-z\\s]', '', teks)            # hapus karakter non-huruf\n",
        "    teks = \" \".join([w for w in teks.split() if w not in stop_words])  # hapus stopword\n",
        "    return teks\n",
        "\n",
        "df['clean_text'] = df['isi'].apply(bersihkan_teks)"
      ],
      "metadata": {
        "id": "3pBzOGzEuDnt"
      },
      "execution_count": 16,
      "outputs": []
    },
    {
      "cell_type": "code",
      "source": [
        "# --- 3. Ekstraksi Fitur dengan CountVectorizer ---\n",
        "vectorizer = CountVectorizer(max_df=0.9, min_df=2, stop_words='english')\n",
        "X_counts = vectorizer.fit_transform(df['clean_text'])"
      ],
      "metadata": {
        "id": "yBJk-wBCuHqk"
      },
      "execution_count": 17,
      "outputs": []
    },
    {
      "cell_type": "code",
      "source": [
        "# --- 4. LDA untuk Ekstraksi Topik ---\n",
        "n_topics = 5  # jumlah topik (bisa diubah)\n",
        "lda = LatentDirichletAllocation(n_components=n_topics, random_state=42)\n",
        "X_lda = lda.fit_transform(X_counts)\n",
        "\n",
        "print(\"\\n✅ LDA selesai. Bentuk matriks fitur:\", X_lda.shape)\n"
      ],
      "metadata": {
        "colab": {
          "base_uri": "https://localhost:8080/"
        },
        "id": "OwMHoal8uq31",
        "outputId": "a67a42ca-d46a-4afc-8f20-7aa8278dba4b"
      },
      "execution_count": 19,
      "outputs": [
        {
          "output_type": "stream",
          "name": "stdout",
          "text": [
            "\n",
            "✅ LDA selesai. Bentuk matriks fitur: (38, 5)\n"
          ]
        }
      ]
    },
    {
      "cell_type": "code",
      "source": [
        "# ---Tampilkan beberapa kata penting dari setiap topik ---\n",
        "def tampilkan_topik(model, feature_names, n_top_words=10):\n",
        "    for topic_idx, topic in enumerate(model.components_):\n",
        "        print(f\"\\nTopik {topic_idx + 1}:\")\n",
        "        print(\" \".join([feature_names[i] for i in topic.argsort()[:-n_top_words - 1:-1]]))\n",
        "\n",
        "tampilkan_topik(lda, vectorizer.get_feature_names_out())\n"
      ],
      "metadata": {
        "colab": {
          "base_uri": "https://localhost:8080/"
        },
        "id": "suIB0P-9uusm",
        "outputId": "bcd18a4f-77b0-4117-9652-4412a84e779d"
      },
      "execution_count": 20,
      "outputs": [
        {
          "output_type": "stream",
          "name": "stdout",
          "text": [
            "\n",
            "Topik 1:\n",
            "app src width classmediumfeedimagea medium classmediumfeedsnippethow la classmediumfeedsnippetthe health en\n",
            "\n",
            "Topik 2:\n",
            "javascript english plain classmediumfeedimagea width src app digital se medium\n",
            "\n",
            "Topik 3:\n",
            "medium trump classmediumfeedsnippetsharm elsheikh elsisi university fun start interactive language\n",
            "\n",
            "Topik 4:\n",
            "app src width classmediumfeedimagea medium simple en la language se\n",
            "\n",
            "Topik 5:\n",
            "level medium plain english app src width classmediumfeedimagea javascript en\n"
          ]
        }
      ]
    },
    {
      "cell_type": "code",
      "source": [
        "# --- 5. Persiapan Data Klasifikasi ---\n",
        "y = df['kategori']\n",
        "X_train, X_test, y_train, y_test = train_test_split(X_lda, y, test_size=0.2, random_state=42)\n"
      ],
      "metadata": {
        "id": "SWYZjQ0yu6kM"
      },
      "execution_count": 21,
      "outputs": []
    },
    {
      "cell_type": "code",
      "source": [
        "# --- 6. Klasifikasi (Naive Bayes) ---\n",
        "model_nb = MultinomialNB()\n",
        "model_nb.fit(X_train, y_train)\n",
        "y_pred = model_nb.predict(X_test)\n"
      ],
      "metadata": {
        "id": "R_B5Dgcuu-q8"
      },
      "execution_count": 22,
      "outputs": []
    },
    {
      "cell_type": "code",
      "source": [
        "# --- 7. Evaluasi ---\n",
        "print(\"\\n📊 Evaluasi Model:\")\n",
        "print(\"Akurasi:\", accuracy_score(y_test, y_pred))\n",
        "print(\"\\nConfusion Matrix:\")\n",
        "cm = confusion_matrix(y_test, y_pred)\n",
        "sns.heatmap(cm, annot=True, fmt='d', cmap='Blues')\n",
        "plt.xlabel('Prediksi')\n",
        "plt.ylabel('Aktual')\n",
        "plt.show()\n",
        "\n",
        "print(\"\\nLaporan Klasifikasi:\")\n",
        "print(classification_report(y_test, y_pred))"
      ],
      "metadata": {
        "colab": {
          "base_uri": "https://localhost:8080/",
          "height": 891
        },
        "id": "oTCmaGz9vCzg",
        "outputId": "42c9a560-18f1-42a6-ecc8-305956db0334"
      },
      "execution_count": 23,
      "outputs": [
        {
          "output_type": "stream",
          "name": "stdout",
          "text": [
            "\n",
            "📊 Evaluasi Model:\n",
            "Akurasi: 0.375\n",
            "\n",
            "Confusion Matrix:\n"
          ]
        },
        {
          "output_type": "display_data",
          "data": {
            "text/plain": [
              "<Figure size 640x480 with 2 Axes>"
            ],
            "image/png": "[encoded data removed]"
          },
          "metadata": {}
        },
        {
          "output_type": "stream",
          "name": "stdout",
          "text": [
            "\n",
            "Laporan Klasifikasi:\n",
            "                  precision    recall  f1-score   support\n",
            "\n",
            "       education       0.33      1.00      0.50         2\n",
            "          health       0.00      0.00      0.00         2\n",
            "machine learning       0.50      1.00      0.67         1\n",
            "        politics       0.00      0.00      0.00         3\n",
            "\n",
            "        accuracy                           0.38         8\n",
            "       macro avg       0.21      0.50      0.29         8\n",
            "    weighted avg       0.15      0.38      0.21         8\n",
            "\n"
          ]
        },
        {
          "output_type": "stream",
          "name": "stderr",
          "text": [
            "/usr/local/lib/python3.12/dist-packages/sklearn/metrics/_classification.py:1565: UndefinedMetricWarning: Precision is ill-defined and being set to 0.0 in labels with no predicted samples. Use `zero_division` parameter to control this behavior.\n",
            "  _warn_prf(average, modifier, f\"{metric.capitalize()} is\", len(result))\n",
            "/usr/local/lib/python3.12/dist-packages/sklearn/metrics/_classification.py:1565: UndefinedMetricWarning: Precision is ill-defined and being set to 0.0 in labels with no predicted samples. Use `zero_division` parameter to control this behavior.\n",
            "  _warn_prf(average, modifier, f\"{metric.capitalize()} is\", len(result))\n",
            "/usr/local/lib/python3.12/dist-packages/sklearn/metrics/_classification.py:1565: UndefinedMetricWarning: Precision is ill-defined and being set to 0.0 in labels with no predicted samples. Use `zero_division` parameter to control this behavior.\n",
            "  _warn_prf(average, modifier, f\"{metric.capitalize()} is\", len(result))\n"
          ]
        }
      ]
    }
  ]
}